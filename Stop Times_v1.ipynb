{
 "cells": [
  {
   "cell_type": "code",
   "execution_count": 1,
   "metadata": {},
   "outputs": [],
   "source": [
    "# Step 1: Import necessary libraries\n",
    "import pandas as pd\n",
    "import ipywidgets as widgets\n",
    "from IPython.display import display"
   ]
  },
  {
   "cell_type": "code",
   "execution_count": 2,
   "metadata": {},
   "outputs": [],
   "source": [
    "# Step 2: Load the CSV file into a pandas DataFrame\n",
    "file_path = 'Stop Times.csv'\n",
    "df = pd.read_csv(file_path)"
   ]
  },
  {
   "cell_type": "code",
   "execution_count": 3,
   "metadata": {},
   "outputs": [],
   "source": [
    "# Step 3: Filter the relevant columns\n",
    "df_filtered = df[['stop_id', 'arrival_time', 'departure_time']]"
   ]
  },
  {
   "cell_type": "code",
   "execution_count": 4,
   "metadata": {},
   "outputs": [],
   "source": [
    "# Step 4: Create a dropdown to filter by stop_id\n",
    "stop_id_list = df_filtered['stop_id'].unique().tolist()\n",
    "stop_id_dropdown = widgets.Dropdown(\n",
    "    options=stop_id_list,\n",
    "    description='Stop ID:',\n",
    "    value=stop_id_list[0],  # Default to the first stop_id\n",
    ")"
   ]
  },
  {
   "cell_type": "code",
   "execution_count": 5,
   "metadata": {},
   "outputs": [],
   "source": [
    "# Step 5: Create a text search box for filtering stop_id\n",
    "search_box = widgets.Text(\n",
    "    description='Search:',\n",
    "    placeholder='Enter Stop ID...'\n",
    ")"
   ]
  },
  {
   "cell_type": "code",
   "execution_count": 6,
   "metadata": {},
   "outputs": [],
   "source": [
    "# Step 6: Create a function to update the table based on the selected stop_id or search input\n",
    "def update_table(selected_stop_id, search_text):\n",
    "    # Filter the DataFrame based on the dropdown and the search box\n",
    "    filtered_df = df_filtered[\n",
    "        (df_filtered['stop_id'] == selected_stop_id) | \n",
    "        (df_filtered['stop_id'].astype(str).str.contains(search_text, case=False))\n",
    "    ]\n",
    "    \n",
    "    # Display more rows\n",
    "    pd.set_option('display.max_rows', 150)  # Set maximum rows to display\n",
    "    pd.set_option('display.expand_frame_repr', False)  # Prevent line wrapping in the DataFrame output\n",
    "    \n",
    "    display(filtered_df)"
   ]
  },
  {
   "cell_type": "code",
   "execution_count": 7,
   "metadata": {},
   "outputs": [
    {
     "data": {
      "application/vnd.jupyter.widget-view+json": {
       "model_id": "d0ad77ab09d94492b145d069dacbc1c6",
       "version_major": 2,
       "version_minor": 0
      },
      "text/plain": [
       "interactive(children=(Dropdown(description='Stop ID:', options=(10007, 10008, 10009, 10013, 10014, 10016, 1002…"
      ]
     },
     "execution_count": 7,
     "metadata": {},
     "output_type": "execute_result"
    }
   ],
   "source": [
    "# Step 7: Link the dropdown and text search box to the update_table function\n",
    "widgets.interactive(update_table, selected_stop_id=stop_id_dropdown, search_text=search_box)"
   ]
  },
  {
   "cell_type": "code",
   "execution_count": 8,
   "metadata": {},
   "outputs": [
    {
     "data": {
      "application/vnd.jupyter.widget-view+json": {
       "model_id": "721b3f6ab1ab496cafccbb8ec7f01a6e",
       "version_major": 2,
       "version_minor": 0
      },
      "text/plain": [
       "Dropdown(description='Stop ID:', options=(10007, 10008, 10009, 10013, 10014, 10016, 10020, 10021, 10022, 10024…"
      ]
     },
     "metadata": {},
     "output_type": "display_data"
    },
    {
     "data": {
      "application/vnd.jupyter.widget-view+json": {
       "model_id": "146b28fd68fb45e29ec2885af958c26c",
       "version_major": 2,
       "version_minor": 0
      },
      "text/plain": [
       "Text(value='', description='Search:', placeholder='Enter Stop ID...')"
      ]
     },
     "metadata": {},
     "output_type": "display_data"
    },
    {
     "data": {
      "text/html": [
       "<div>\n",
       "<style scoped>\n",
       "    .dataframe tbody tr th:only-of-type {\n",
       "        vertical-align: middle;\n",
       "    }\n",
       "\n",
       "    .dataframe tbody tr th {\n",
       "        vertical-align: top;\n",
       "    }\n",
       "\n",
       "    .dataframe thead th {\n",
       "        text-align: right;\n",
       "    }\n",
       "</style>\n",
       "<table border=\"1\" class=\"dataframe\">\n",
       "  <thead>\n",
       "    <tr style=\"text-align: right;\">\n",
       "      <th></th>\n",
       "      <th>stop_id</th>\n",
       "      <th>arrival_time</th>\n",
       "      <th>departure_time</th>\n",
       "    </tr>\n",
       "  </thead>\n",
       "  <tbody>\n",
       "    <tr>\n",
       "      <th>0</th>\n",
       "      <td>10007</td>\n",
       "      <td>24:06:30</td>\n",
       "      <td>24:06:30</td>\n",
       "    </tr>\n",
       "    <tr>\n",
       "      <th>1</th>\n",
       "      <td>10007</td>\n",
       "      <td>23:06:30</td>\n",
       "      <td>23:06:30</td>\n",
       "    </tr>\n",
       "    <tr>\n",
       "      <th>2</th>\n",
       "      <td>10007</td>\n",
       "      <td>22:06:30</td>\n",
       "      <td>22:06:30</td>\n",
       "    </tr>\n",
       "    <tr>\n",
       "      <th>3</th>\n",
       "      <td>10007</td>\n",
       "      <td>21:06:30</td>\n",
       "      <td>21:06:30</td>\n",
       "    </tr>\n",
       "    <tr>\n",
       "      <th>4</th>\n",
       "      <td>10007</td>\n",
       "      <td>20:01:30</td>\n",
       "      <td>20:01:30</td>\n",
       "    </tr>\n",
       "    <tr>\n",
       "      <th>...</th>\n",
       "      <td>...</td>\n",
       "      <td>...</td>\n",
       "      <td>...</td>\n",
       "    </tr>\n",
       "    <tr>\n",
       "      <th>736339</th>\n",
       "      <td>99850</td>\n",
       "      <td>16:52:00</td>\n",
       "      <td>16:52:00</td>\n",
       "    </tr>\n",
       "    <tr>\n",
       "      <th>736340</th>\n",
       "      <td>99850</td>\n",
       "      <td>18:16:00</td>\n",
       "      <td>18:16:00</td>\n",
       "    </tr>\n",
       "    <tr>\n",
       "      <th>736341</th>\n",
       "      <td>99850</td>\n",
       "      <td>24:07:00</td>\n",
       "      <td>24:07:00</td>\n",
       "    </tr>\n",
       "    <tr>\n",
       "      <th>736342</th>\n",
       "      <td>99850</td>\n",
       "      <td>20:57:00</td>\n",
       "      <td>20:57:00</td>\n",
       "    </tr>\n",
       "    <tr>\n",
       "      <th>736343</th>\n",
       "      <td>99850</td>\n",
       "      <td>20:55:00</td>\n",
       "      <td>20:55:00</td>\n",
       "    </tr>\n",
       "  </tbody>\n",
       "</table>\n",
       "<p>736344 rows × 3 columns</p>\n",
       "</div>"
      ],
      "text/plain": [
       "        stop_id arrival_time departure_time\n",
       "0         10007     24:06:30       24:06:30\n",
       "1         10007     23:06:30       23:06:30\n",
       "2         10007     22:06:30       22:06:30\n",
       "3         10007     21:06:30       21:06:30\n",
       "4         10007     20:01:30       20:01:30\n",
       "...         ...          ...            ...\n",
       "736339    99850     16:52:00       16:52:00\n",
       "736340    99850     18:16:00       18:16:00\n",
       "736341    99850     24:07:00       24:07:00\n",
       "736342    99850     20:57:00       20:57:00\n",
       "736343    99850     20:55:00       20:55:00\n",
       "\n",
       "[736344 rows x 3 columns]"
      ]
     },
     "metadata": {},
     "output_type": "display_data"
    }
   ],
   "source": [
    "# Step 8: Display the interactive widgets and filtered table\n",
    "display(stop_id_dropdown)\n",
    "display(search_box)\n",
    "update_table(stop_id_dropdown.value, search_box.value)"
   ]
  }
 ],
 "metadata": {
  "kernelspec": {
   "display_name": "Python 3",
   "language": "python",
   "name": "python3"
  },
  "language_info": {
   "codemirror_mode": {
    "name": "ipython",
    "version": 3
   },
   "file_extension": ".py",
   "mimetype": "text/x-python",
   "name": "python",
   "nbconvert_exporter": "python",
   "pygments_lexer": "ipython3",
   "version": "3.11.10"
  }
 },
 "nbformat": 4,
 "nbformat_minor": 2
}
